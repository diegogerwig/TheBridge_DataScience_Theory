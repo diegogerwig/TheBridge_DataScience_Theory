{
 "cells": [
  {
   "attachments": {},
   "cell_type": "markdown",
   "metadata": {},
   "source": [
    "## ¿Qué es la Probabilidad?\n",
    "\n",
    "**La [probabilidad](https://es.wikipedia.org/wiki/Probabilidad) mide la mayor o menor posibilidad de que se dé un determinado resultado (suceso o evento) cuando se realiza un experimento aleatorio.**\n",
    "Para calcular la probabilidad de un evento se toma en cuenta **todos los casos posibles** de ocurrencia del mismo; es decir, de cuántas formas puede ocurrir determinada situación.Los **casos favorables** de ocurrencia de un evento serán los que cumplan con la condición que estamos buscando. La *[probabilidad](https://es.wikipedia.org/wiki/Probabilidad)* toma valores entre 0 y 1 (o expresados en tanto por ciento, entre 0% y 100%).\n",
    "\n",
    "**La *[probabilidad](https://es.wikipedia.org/wiki/Probabilidad)* funciona como complemento de la *[estadística](http://es.wikipedia.org/wiki/Estad%C3%ADstica)*** cuando nos proporciona una sólida base para la *[estadistica inferencial](https://es.wikipedia.org/wiki/Estad%C3%ADstica_inferencial)*. Cuando hay incertidumbre, no sabemos que puede pasar y hay alguna posibilidad de errores, utilizando *[probabilidades](https://es.wikipedia.org/wiki/Probabilidad)* podemos aprender formas de controlar la tasa de errores para reducirlos."
   ]
  },
  {
   "attachments": {},
   "cell_type": "markdown",
   "metadata": {},
   "source": [
    "### El espacio muestral\n",
    "\n",
    "**El *[espacio de muestreo](https://es.wikipedia.org/wiki/Espacio_muestral)* hace referencia a la idea de que los posibles resultados de un [proceso aleatorio](https://es.wikipedia.org/wiki/Experimento_aleatorio) pueden ser pensados como puntos en el espacio**. En los casos más simples, este espacio puede consistir en sólo algunos puntos, pero en casos más complejos puede estar representado por un *continuo*, como el espacio en que vivimos.\n",
    "\n",
    "El *[espacio de muestreo](https://es.wikipedia.org/wiki/Espacio_muestral)*, en general se expresa con la letra $S$, y consiste en el conjunto de todos los resultados posibles de un *experimento*. Si el experimento consiste en el lanzamiento de una moneda, entonces el *[espacio de muestreo](https://es.wikipedia.org/wiki/Espacio_muestral)* será $S = \\{cara, cruz \\}$, ya que estas dos alternativas representan a todos los resultados posibles del *experimento*. **En definitiva el *[espacio de muestreo](https://es.wikipedia.org/wiki/Espacio_muestral)* no es más que una simple enumeración de todos los resultados posibles**, aunque las cosas nunca suelen ser tan simples como aparentan. Si en lugar de considerar el lanzamiento de una moneda, lanzamos dos monedas; uno podría pensar que el *[espacio de muestreo](https://es.wikipedia.org/wiki/Espacio_muestral)* para este caso será  $S = \\{\\text{ 2 caras}, \\text{2 cruces}, \\text{cara y cruz} \\}$; es decir que de acuerdo con este *[espacio de muestreo](https://es.wikipedia.org/wiki/Espacio_muestral)* la [probabilidad](https://es.wikipedia.org/wiki/Probabilidad) de que obtengamos dos caras es 1 en 3; pero la verdadera [probabilidad](https://es.wikipedia.org/wiki/Probabilidad) de obtener dos caras, confirmada por la experimentación, es 1 en 4; la cual se hace evidente si definimos correctamente el *[espacio de muestreo](https://es.wikipedia.org/wiki/Espacio_muestral)*, que será el siguiente: $S = \\{\\text{ 2 caras}, \\text{2 cruces}, \\text{cara y cruz}, \\text{cruz y cara} \\}$. Como este simple ejemplo nos enseña, **debemos ser muy cuidadosos al definir el *[espacio de muestreo](https://es.wikipedia.org/wiki/Espacio_muestral)***, ya que una mala definición del mismo, puede inducir a cálculos totalmente errados de la [probabilidad](https://es.wikipedia.org/wiki/Probabilidad).\n"
   ]
  },
  {
   "attachments": {},
   "cell_type": "markdown",
   "metadata": {},
   "source": [
    "![imagen](./img/esp_muestral_monedas.png)"
   ]
  },
  {
   "attachments": {},
   "cell_type": "markdown",
   "metadata": {},
   "source": [
    "\n",
    "## Calculando probabilidades\n",
    "\n",
    "Saber calcular la [probabilidad](https://es.wikipedia.org/wiki/Probabilidad) de que un evento o varios eventos ocurran puede ser una habilidad valiosa al tomar decisiones, ya sea en la vida real o jugando juegos de azar. **Cómo calcular la [probabilidad](https://es.wikipedia.org/wiki/Probabilidad), sin embargo, cambia dependiendo del tipo de evento que se está observando**. Por ejemplo, no calcularíamos nuestras posibilidades de ganar la lotería de la misma manera que calcularíamos nuestras posibilidades de obtener una [generala](https://es.wikipedia.org/wiki/Generala) servida en un juego de dados. Sin embargo, una vez que determinamos si los eventos son <a href=\"https://es.wikipedia.org/wiki/Independencia_(probabilidad)\">independientes</a>, [condicionales](https://es.wikipedia.org/wiki/Probabilidad_condicionada) o mutuamente excluyentes, calcular su probabilidad es relativamente simple.\n",
    "\n",
    "### Propiedades básicas de la probabilidad\n",
    "\n",
    "Antes de poder calcular las [probabilidades](https://es.wikipedia.org/wiki/Probabilidad), primero debemos conocer sus 3 propiedades fundamentales, ellas son:\n",
    "\n",
    "* La [probabilidad](https://es.wikipedia.org/wiki/Probabilidad) se expresa como un ratio que será un valor positivo menor o igual a 1.\n",
    "\n",
    "$ 0 \\le p(A) \\le 1$\n",
    "\n",
    "* La [probabilidad](https://es.wikipedia.org/wiki/Probabilidad) de un evento del que tenemos total certeza es 1.\n",
    "\n",
    "$ p(S) = 1 $\n",
    "\n",
    "A partir de estas propiedades básicas, se pueden derivar muchas otras propiedades.\n",
    "\n",
    "### Teoría de conjuntos y probabilidades\n",
    "\n",
    "En mi artículo sobre [conjuntos](http://relopezbriega.github.io/blog/2015/10/11/conjuntos-con-python/) comentaba que la [teoría de conjuntos](https://es.wikipedia.org/wiki/Teor%C3%ADa_de_conjuntos) se ha convertido en un pilar fundamental de las matemáticas, **casi cualquier rama de las matemáticas puede ser definida utilizando [conjuntos](http://relopezbriega.github.io/blog/2015/10/11/conjuntos-con-python/)**; y la [teoría de probabilidad](https://es.wikipedia.org/wiki/Teor%C3%ADa_de_la_probabilidad) no es la excepción. Antes de poder calcular  [probabilidades](https://es.wikipedia.org/wiki/Probabilidad), primero debemos discutir como se relacionan los eventos en términos de la [teoría de conjuntos](https://es.wikipedia.org/wiki/Teor%C3%ADa_de_conjuntos). Las relaciones que podemos encontrar son:\n",
    "\n",
    "\n",
    "* **Unión:** La unión de varios eventos simples crea un evento compuesto que ocurre si uno o más de los eventos ocurren. La unión de $A$ y $B$ se escribe $A \\cup B$ y significa \"Ya sea $A$ o $B$, o ambos $A$ y $B$.\"\n",
    "\n",
    "* **Intersección:** La intersección de dos o más eventos simples crea un evento compuesto que ocurre sólo si ocurren todos los eventos simples. La intersección de $A$ y $B$ se escribe $A \\cap B$ y significa \"$A$ y $B$.\"\n",
    "\n",
    "* **Complemento:** El complemento de un evento significa todo en el [espacio de muestreo](https://es.wikipedia.org/wiki/Espacio_muestral) que no es ese evento. El complemento del evento $A$ se escribe varias veces como $\\sim{A}$, $A^c$, o $\\overline{A}$, y se lee como \"no $A$\" o \"complemento $A$\".\n",
    "\n",
    "* **Exclusión mutua:** Si los eventos no pueden ocurrir juntos, son *mutuamente excluyentes*. Siguiendo la misma línea de razonamiento, si dos conjuntos no tienen ningún evento en común, son mutuamente excluyentes.\n",
    "\n",
    "Para el siguiente ejemplo, considera el conjunto A como personas que tienen bicicleta, mientras que B son aquellas personas que tienen coche.\n",
    "\n",
    "![imagen](./img/teoria_conjuntos.jpg)\n",
    "\n",
    "Imagina que tu espacio muestral son 9 personas, de los cuales tienes 5 ciudadanos españoles (A), y 4 de pelo castaño (B).\n",
    "\n",
    "![imagen](./img/pebble.png)\n"
   ]
  },
  {
   "attachments": {},
   "cell_type": "markdown",
   "metadata": {},
   "source": [
    "Escogiendo una persona al azar del espacio muestral:\n",
    "\n",
    "* ¿Cuál es la probabilidad que sea un ciudadano español? P(A) = 5/9\n",
    "* ¿Cuál es la probabilidad de que tenga el pelo castaño? P(B) = 4/9\n",
    "* ¿Cuál es la probabilidad de que sea español o tenga el pelo castaño? $P(A \\cup B)$ = 8/9 = $P(A)$ + $P(B)$ - $P(A \\cap B)$\n",
    "* ¿Cuál es la probabilidad de que sea español y tenga el pelo castaño? $P(A \\cap B)$ = 1/9\n",
    "* ¿Cuál es la probabilidad de que no sea español? $P(\\sim{A})$ = 4/9"
   ]
  },
  {
   "attachments": {},
   "cell_type": "markdown",
   "metadata": {},
   "source": [
    "\n",
    "Si ahora el espacio muestral son 10 pelotas, 5 rojas y 3 amarillas, ¿cuál es la probabilidad de que una pelota sea roja y amarilla? 0, son eventos excluyentes"
   ]
  },
  {
   "attachments": {},
   "cell_type": "markdown",
   "metadata": {},
   "source": [
    "A = roja\n",
    "\n",
    "B = amarilla\n",
    "\n",
    "Si sabemos que las pelotas son unicolores"
   ]
  },
  {
   "cell_type": "markdown",
   "metadata": {},
   "source": [
    "$P(A)$ = 5/10\n",
    "\n",
    "$P(B)$ = 3/10\n",
    "\n",
    "$P(A \\cap B)$ = 0\n",
    "\n",
    "$P(A \\cup B)$ = $P(A)$ + $P(B)$ - $P(A \\cap B)$ = 5/10 + 3/10 - 0 = 8/10\n",
    "\n",
    "\n",
    "$P(\\sim{B})$ = 7/10\n"
   ]
  },
  {
   "attachments": {},
   "cell_type": "markdown",
   "metadata": {},
   "source": [
    "### Calculando la probabilidad de múltiples eventos\n",
    "\n",
    "Ahora sí, ya podemos calcular las [probabilidades](https://es.wikipedia.org/wiki/Probabilidad) de los eventos. Recordemos que la [probabilidad](https://es.wikipedia.org/wiki/Probabilidad) de un solo evento se expresa como un ratio entre el número de resultados favorables sobre el número de los posibles resultados. Es lo que se conoce como *regla de Laplace*:\n",
    "\n",
    "$p(A) = \\frac{favorables}{posibles}$\n",
    "\n",
    "##### Ejemplo\n",
    "Lanzando un dado al aire, cuál es la probabilidad de que:\n",
    "\n",
    "**Salga un número par**\n",
    ">\n",
    "> Casos favorables: 2,4,6\n",
    ">\n",
    "> Casos posibles: 1,2,3,4,5,6\n",
    ">\n",
    "> P(par) = 3/6 = 1/2\n",
    "\n",
    "**Salga un múltiplo de 3**\n",
    ">\n",
    "> Casos favorables: 3,6\n",
    ">\n",
    "> Casos posibles: 1,2,3,4,5,6\n",
    ">\n",
    "> P(multiplo de 3) = 2/6 = 1/3\n",
    "\n",
    "**Salga un número mayor que 4**\n",
    ">\n",
    "> Casos favorables: 5,6\n",
    ">\n",
    "> Casos posibles: 1,2,3,4,5,6\n",
    ">\n",
    "> P(mayor  que 4) = 2/6 = 1/3\n",
    "\n",
    "[Más ejemplos](https://www.superprof.es/apuntes/escolar/matematicas/probabilidades/combinatoria/ley-de-laplace.html)\n"
   ]
  },
  {
   "attachments": {},
   "cell_type": "markdown",
   "metadata": {},
   "source": [
    "#### Unión de eventos mutuamente excluyentes\n",
    "Si los eventos son *mutuamente excluyentes* entonces para calcular la [probabilidad](https://es.wikipedia.org/wiki/Probabilidad) de su unión, simplemente sumamos sus [probabilidades](https://es.wikipedia.org/wiki/Probabilidad) individuales. Su interesección es el vacío, es decir, la probabilidad de su intersección es 0 porque no se puede dar ambos eventos a la vez.\n",
    "\n",
    "$p(E \\cup F) = p(E) + p(F)$\n",
    "\n",
    "$p(E \\cap F) = 0$\n",
    "\n",
    "##### Ejemplo\n",
    "Vas al cine con tu pareja y no sabes qué entradas ha comprado. En la cartelera hay 5 peliculas: A, B, C, D, E. Teniendo en cuenta que tu película favorita es A:\n",
    "\n",
    "1. La probabilidad de ver tu película favorita.\n",
    "2. La probabilidad de NO ver tu película favorita.\n",
    "3. La probabilidad de que veas A o B(que también te gusta).\n",
    "4. La probabilidad de que veas A y B a la vez.\n"
   ]
  },
  {
   "attachments": {},
   "cell_type": "markdown",
   "metadata": {},
   "source": [
    "![imagen](./img/mutuamente_excluyentes.png)\n",
    "\n",
    "#### Unión de eventos que no son mutuamente excluyentes\n",
    "Si los eventos no son *mutuamente excluyentes* entonces debemos corregir la fórmula anterior para incluir el efecto de la superposición de los eventos. Esta superposición se da en el lugar de la *intersección* de los eventos; por lo tanto la formula para calcular la [probabilidad](https://es.wikipedia.org/wiki/Probabilidad) de estos eventos es:\n",
    "\n",
    "$p(E \\cup F) = p(E) + p(F) - p(E \\cap F)$\n",
    "\n",
    "##### Ejemplo\n",
    "\n",
    "* Sacar una carta de oros y además que sea de espadas. Son eventos **mutuamente excluyentes**. O es de oros, o es de espadas\n",
    "* Sacar una carta de oros y un 5. Son eventos **mutuamente NO exluyentes**. Puede darse el caso de que la carta sea de oros y además un 5.\n",
    "\n",
    "![imagen](./img/mutuamente_no_excluyentes.png)"
   ]
  },
  {
   "attachments": {},
   "cell_type": "markdown",
   "metadata": {},
   "source": [
    "#### Intersección de eventos independientes\n",
    "Para calcular la [probabilidad](https://es.wikipedia.org/wiki/Probabilidad) de que ocurran varios eventos (la intersección de varios eventos), se multiplican sus [probabilidades](https://es.wikipedia.org/wiki/Probabilidad) individuales. La fórmula específica utilizada dependerá de si los eventos son <a href=\"https://es.wikipedia.org/wiki/Independencia_(probabilidad)\">independientes</a> o no.\n",
    "Si son <a href=\"https://es.wikipedia.org/wiki/Independencia_(probabilidad)\">independientes</a>, la [probabilidad](https://es.wikipedia.org/wiki/Probabilidad) de $E$ y $F$ se calcula como:\n",
    "\n",
    "$p(E \\cap F) = p(E) \\times p(F)$\n",
    "\n",
    "#### Ejemplo\n",
    "Tiro tres dados. ¿Cuál es la probabilidad de que en las tres tiradas salga un 4? Se trata de tres eventos independientes, y la probabilidad de ocurra cada uno de ellos por separado es de 1/6.\n",
    "\n",
    "Por tanto, la probabilidad de que en las tres tiradas salga un 4, será de (1/6) * (1/6) * (1/6) = (1/216) = 0.46 %"
   ]
  },
  {
   "attachments": {},
   "cell_type": "markdown",
   "metadata": {},
   "source": [
    "#### Intersección de eventos no independientes\n",
    "Si dos eventos no son <a href=\"https://es.wikipedia.org/wiki/Independencia_(probabilidad)\">independientes</a>, debemos conocer su [probabilidad condicional](https://es.wikipedia.org/wiki/Probabilidad_condicionada) para poder calcular la [probabilidad](https://es.wikipedia.org/wiki/Probabilidad) de que ambos se produzcan. La fórmula en este caso es:\n",
    "\n",
    "$p(E \\cap F) = p(E) \\times p(F|E)$\n",
    "\n",
    "#### Ejemplo\n",
    "Saco dos cartas de una baraja española (sin devolverlas al mazo), ¿cuál es la probabilidad de que ambas cartas sean reyes?\n",
    "\n",
    "Si el evento E es \"obtener un rey la primera vez que sacamos carta\", P(E) = 4/40. Si no devuelvo la carta al mazo, se quedaría con 39 cartas. Ahora necesito calcular la probabilidad del segundo evento, es decir, la probabilidad de que la segunda vez que saque carta sea un rey, codicionado al evento anterior, por tanto, P(F/E) = 3/39.\n",
    "\n",
    "Por tanto, nuestra probabilidad de obtener dos reyes en dos cartas consecutivas es de: (4/40) * (3/39) = 12/1560"
   ]
  },
  {
   "attachments": {},
   "cell_type": "markdown",
   "metadata": {},
   "source": [
    "### La probabilidad condicional\n",
    "\n",
    "Con frecuencia queremos conocer la [probabilidad](https://es.wikipedia.org/wiki/Probabilidad) de algún evento, dado que otro evento ha ocurrido. **Esto se expresa simbólicamente como $p(E | F)$ y se lee como \"la [probabilidad](https://es.wikipedia.org/wiki/Probabilidad) de $E$ dado $F$\".** El segundo evento se conoce como la *condición* y el proceso se refiere a veces como \"condicionamiento en F\". La [probabilidad condicional](https://es.wikipedia.org/wiki/Probabilidad_condicionada) es un concepto importante de estadística, porque a menudo estamos tratando de establecer que un factor tiene una relación con un resultado, como por ejemplo, que las personas que fuman cigarrillos tienen más [probabilidades](https://es.wikipedia.org/wiki/Probabilidad) de desarrollar cáncer de pulmón. La [probabilidad condicional](https://es.wikipedia.org/wiki/Probabilidad_condicionada) también se puede usar para definir la <a href=\"https://es.wikipedia.org/wiki/Independencia_(probabilidad)\">independencia</a>. **Dos variables se dice que son <a href=\"https://es.wikipedia.org/wiki/Independencia_(probabilidad)\">independientes</a> si la siguiente relación se cumple:**\n",
    "\n",
    "$p(E | F) = p(E)$\n",
    "\n",
    "Probabilidad de ser fumador si eres asmático\n",
    "\n",
    "#### Calculando la probabilidad condicional\n",
    "Para calcular la probabilidad del evento $E$ dada la información de que el evento $F$ ha ocurrido utilizamos la siguiente formula:\n",
    "\n",
    "$p(E | F) = \\frac{p(E \\cap F)}{p(F)}$"
   ]
  },
  {
   "attachments": {},
   "cell_type": "markdown",
   "metadata": {},
   "source": [
    "\n",
    "## Distintas interpretaciones de la probabilidad\n",
    "\n",
    "Las [probabilidades](https://es.wikipedia.org/wiki/Probabilidad) pueden ser interpretadas generalmente de dos maneras distintas.\n",
    "La interpretación *frecuentista* u *objetivista* de la [probabilidad](https://es.wikipedia.org/wiki/Probabilidad) es una perspectiva en la que las [probabilidades](https://es.wikipedia.org/wiki/Probabilidad) se consideran frecuencias relativas constantes a largo plazo. Este es el enfoque clásico de la [teoría de probabilidad](https://es.wikipedia.org/wiki/Teor%C3%ADa_de_la_probabilidad). La interpretación *Bayesiana* o *subjetivista* de la [probabilidad](https://es.wikipedia.org/wiki/Probabilidad) es una perspectiva en la que las [probabilidades](https://es.wikipedia.org/wiki/Probabilidad) son consideradas como *medidas de creencia* que pueden cambiar con el tiempo para reflejar nueva información.\n",
    "\n",
    "El *enfoque clásico* sostiene que los métodos *bayesianos* sufren de falta de objetividad, ya que diferentes individuos son libres de asignar diferentes [probabilidades](https://es.wikipedia.org/wiki/Probabilidad) al mismo evento según sus propias opiniones personales. Los *bayesianos* se oponen a los *clásicos* sosteniendo que la interpretación *frecuentista* de la [probabilidad](https://es.wikipedia.org/wiki/Probabilidad) tiene ya de por sí una subjetividad incorporada (por ejemplo, mediante la elección y el diseño del procedimiento de muestreo utilizado) y que la ventaja del *enfoque bayesiano* es que ya hace explícita esta subjetividad.\n",
    "En la actualidad, la mayoría de los problemas son abordados siguiendo un enfoque mixto entre ambas interpretaciones de la [probabilidad](https://es.wikipedia.org/wiki/Probabilidad). \n",
    "\n",
    "https://www.youtube.com/watch?v=GEFxFVESQXc\n",
    "\n",
    "## El poder de los números aleatorios\n",
    "\n",
    "Uno podría pensar que un comportamiento [aleatorio](https://es.wikipedia.org/wiki/Aleatoriedad) es caótico y totalmente opuesto a la razón, que sería una forma de renunciar a un problema, un último recurso. Pero lejos de esto, el sorprendente y cada vez más importante rol que viene desempeñando lo [aleatorio](https://es.wikipedia.org/wiki/Aleatoriedad) en las [ciencias de la computación](https://es.wikipedia.org/wiki/Ciencias_de_la_computaci%C3%B3n) nos enseña que el hacer un uso deliberado de lo [aleatorio](https://es.wikipedia.org/wiki/Aleatoriedad) puede ser una forma muy efectiva de abordar los problemas más difíciles; incluso en algunos casos, puede ser el único camino viable. Los [Algoritmos probabilísticos](https://es.wikipedia.org/wiki/Algoritmo_probabilista) como el método [Miller-Rabin](https://es.wikipedia.org/wiki/Test_de_primalidad_de_Miller-Rabin) para encontrar números primos y el [método de Monte Carlo](https://es.wikipedia.org/wiki/M%C3%A9todo_de_Montecarlo), nos demuestran lo poderoso que puede ser utilizar la [aleatoriedad](https://es.wikipedia.org/wiki/Aleatoriedad) para resolver problemas. Muchas veces, la mejor solución a un problema, puede ser simplemente dejarlo al azar en lugar de tratar de razonar totalmente su solución!"
   ]
  },
  {
   "attachments": {},
   "cell_type": "markdown",
   "metadata": {},
   "source": [
    "## Independencia y ley de grandes números\n",
    "\n",
    "**Una de las cosas más fascinantes sobre el estudio de la [teoría de probabilidad](https://es.wikipedia.org/wiki/Teor%C3%ADa_de_la_probabilidad) es que si bien el comportamiento de un evento individual es totalmente impredecible, el comportamiento de una cantidad suficientemente grande de eventos se puede predecir con un alto grado de certeza!.**\n",
    "Si tomamos el caso clásico del lanzamiento de una moneda, no podemos predecir con exactitud cuantas caras podemos obtener luego de 10 tiradas, tal vez el azar haga que obtengamos 7, 10, o 3 caras, dependiendo de con cuanta suerte nos encontremos; pero si repetimos el lanzamiento un millón de veces, casi con seguridad que la cantidad de caras se aproximará a la verdadera *[probabilidad](https://es.wikipedia.org/wiki/Probabilidad)* subyacente del experimento, es decir, al 50% de los lanzamientos. Este comportamiento es lo que en la [teoría de probabilidad](https://es.wikipedia.org/wiki/Teor%C3%ADa_de_la_probabilidad) se conoce con el nombre de [ley de grandes números](https://es.wikipedia.org/wiki/Ley_de_los_grandes_n%C3%BAmeros); pero antes de poder definir esta ley, primero debemos describir otro concepto también muy importante, la <a href=\"https://es.wikipedia.org/wiki/Independencia_(probabilidad)\">independencia</a> de los [eventos](https://es.wikipedia.org/wiki/Evento_aleatorio) .\n",
    "\n",
    "### El concepto de independencia\n",
    "\n",
    "**En [teoría de probabilidad](https://es.wikipedia.org/wiki/Teor%C3%ADa_de_la_probabilidad), podemos decir que dos [eventos](https://es.wikipedia.org/wiki/Evento_aleatorio) son <a href=\"https://es.wikipedia.org/wiki/Independencia_(probabilidad)\">independientes</a> cuando la *[probabilidad](https://es.wikipedia.org/wiki/Probabilidad)* de cada uno de ellos no se ve afecta porque el otro evento ocurra**, es decir que no existe ninguna relación entre los [eventos](https://es.wikipedia.org/wiki/Evento_aleatorio). En el lanzamiento de la moneda; la moneda no sabe, ni le interesa saber si el resultado del lanzamiento anterior fue cara; cada lanzamiento es un suceso totalmente aislado el uno del otro y la *[probabilidad](https://es.wikipedia.org/wiki/Probabilidad)* del resultado va a ser siempre 50% en cada lanzamiento. \n",
    "\n",
    "### Ley de grandes números\n",
    "\n",
    "Ahora que ya conocemos el concepto de <a href=\"https://es.wikipedia.org/wiki/Independencia_(probabilidad)\">independencia</a>, estamos en condiciones de dar una definición más formal de la [ley de grandes números](https://es.wikipedia.org/wiki/Ley_de_los_grandes_n%C3%BAmeros), que junto con el [Teorema del límite central](https://es.wikipedia.org/wiki/Teorema_del_l%C3%ADmite_central), constituyen los cimientos de la [teoría de probabilidad](https://es.wikipedia.org/wiki/Teor%C3%ADa_de_la_probabilidad). \n",
    "El Teorema Central del Límite (TCL) es uno de los conceptos fundamentales en estadística y ciencia de datos. Básicamente, establece que cuando sumas un gran número de variables aleatorias independientes y las promedias, la distribución de esas medias se aproxima a una distribución normal, sin importar la forma de la distribución original de las variables individuales.\n",
    "Podemos formular esta ley de la siguiente manera: **si se repite un [experimento aleatorio](https://es.wikipedia.org/wiki/Experimento_aleatorio), bajo las mismas condiciones, un número ilimitado de veces; y si estas repeticiones son *<a href=\"https://es.wikipedia.org/wiki/Independencia_(probabilidad)\">independientes</a>* la una de la otra, entonces la frecuencia  de veces que un evento $A$ ocurra, convergerá con [probabilidad](https://es.wikipedia.org/wiki/Probabilidad) 1 a un número que es igual a la [probabilidad](https://es.wikipedia.org/wiki/Probabilidad) de que $A$ ocurra en una sola repetición del experimento.** Lo que esta ley nos enseña, es que la [probabilidad](https://es.wikipedia.org/wiki/Probabilidad) subyacente de cualquier suceso aleatorio puede ser aprendido por medio de la experimentación, simplemente tendríamos que repetirlo una cantidad suficientemente grande de veces!. Un error que la gente suele cometer y asociar a esta ley, es la idea de que un evento tiene más posibilidades de ocurrir porque ha o no ha ocurrido recientemente. Esta idea de que las chances de un evento con una [probabilidad](https://es.wikipedia.org/wiki/Probabilidad) fija, aumentan o disminuyen dependiendo de las ocurrencias recientes del evento, es un error que se conoce bajo el nombre de la **[falacia del apostador](https://es.wikipedia.org/wiki/Falacia_del_apostador).**\n",
    "\n",
    "https://www.youtube.com/watch?v=MntX3zWNWec"
   ]
  },
  {
   "attachments": {},
   "cell_type": "markdown",
   "metadata": {},
   "source": [
    "![imagen](./img/ley_grandes_numeros.png)\n",
    "\n",
    "Para entender mejor la [ley de grandes números](https://es.wikipedia.org/wiki/Ley_de_los_grandes_n%C3%BAmeros), experimentemos con algunos ejemplos en [Python](https://www.python.org/). Utilicemos nuevamente el ejemplo del lanzamiento de la moneda, en el primer ejemplo, la moneda va a tener la misma posibilidad de caer en cara o cruz; mientras que en el segundo ejemplo, vamos a modificar la [probabilidad](https://es.wikipedia.org/wiki/Probabilidad) de la moneda para que caiga cara solo en 1 de 6 veces. "
   ]
  },
  {
   "cell_type": "code",
   "execution_count": 14,
   "metadata": {},
   "outputs": [
    {
     "data": {
      "image/png": "[encoded data removed]",
      "text/plain": [
       "<Figure size 800x600 with 1 Axes>"
      ]
     },
     "metadata": {},
     "output_type": "display_data"
    }
   ],
   "source": [
    "import numpy as np\n",
    "import pandas as pd \n",
    "import matplotlib.pyplot as plt\n",
    "\n",
    "# Ejemplo ley de grandes números\n",
    "# moneda p=1/2 cara=1 cruz=0\n",
    "resultados = []\n",
    "for lanzamientos in range(1,1000):\n",
    "    lanzamientos = np.random.choice([0,1], lanzamientos) \n",
    "    caras = lanzamientos.mean()\n",
    "    resultados.append(caras)\n",
    "    # print(resultados)\n",
    "\n",
    "# gráficamente\n",
    "df = pd.DataFrame({ 'lanzamientos' : resultados})\n",
    "\n",
    "df.plot(title='Ley de grandes números',color='r',figsize=(8, 6))\n",
    "plt.axhline(0.5)\n",
    "plt.xlabel(\"Número de lanzamientos\")\n",
    "plt.ylabel(\"frecuencia caras\")\n",
    "# plt.xlim(0,100)\n",
    "plt.show()"
   ]
  },
  {
   "cell_type": "code",
   "execution_count": 15,
   "metadata": {},
   "outputs": [
    {
     "name": "stdout",
     "output_type": "stream",
     "text": [
      "1.0\n",
      "0.5\n",
      "1.0\n",
      "0.5\n"
     ]
    }
   ],
   "source": [
    "lanzamiento_1 = [1]\n",
    "lanzamiento_2 = [0,1]\n",
    "lanzamiento_3 = [1,1,1]\n",
    "lanzamiento_4 = [1,1,0,0]\n",
    "\n",
    "print(np.mean(lanzamiento_1))\n",
    "print(np.mean(lanzamiento_2))\n",
    "print(np.mean(lanzamiento_3))\n",
    "print(np.mean(lanzamiento_4))"
   ]
  },
  {
   "cell_type": "code",
   "execution_count": 16,
   "metadata": {},
   "outputs": [
    {
     "data": {
      "text/plain": [
       "[0.0, 1.0, 0.6666666666666666, 0.25, 0.8]"
      ]
     },
     "execution_count": 16,
     "metadata": {},
     "output_type": "execute_result"
    }
   ],
   "source": [
    "resultados[0:5]"
   ]
  },
  {
   "cell_type": "code",
   "execution_count": 17,
   "metadata": {},
   "outputs": [
    {
     "data": {
      "image/png": "[encoded data removed]",
      "text/plain": [
       "<Figure size 800x600 with 1 Axes>"
      ]
     },
     "metadata": {},
     "output_type": "display_data"
    }
   ],
   "source": [
    "# Modificar la probabilidad de la moneda para que caiga cara solo en 1 de 6 veces.\n",
    "# moneda p=1/6 cara=1 cruz=0\n",
    "resultados = []\n",
    "for lanzamientos in range(1,10000):\n",
    "    lanzamientos = np.random.choice([0,1], lanzamientos, p=[5/6, 1/6]) \n",
    "    caras = lanzamientos.mean()\n",
    "    resultados.append(caras)\n",
    "\n",
    "# graficamente\n",
    "df = pd.DataFrame({ 'lanzamientos' : resultados})\n",
    "\n",
    "df.plot(title='Ley de grandes números',color='r',figsize=(8, 6))\n",
    "plt.axhline(1/6)\n",
    "plt.xlabel(\"Número de lanzamientos\")\n",
    "plt.ylabel(\"frecuencia caras\")\n",
    "plt.show()"
   ]
  },
  {
   "attachments": {},
   "cell_type": "markdown",
   "metadata": {},
   "source": [
    "\n",
    "## Probabilidad y sentido común\n",
    "\n",
    "La incertidumbre constituye una pieza fundamental del mundo en que vivimos, en parte hace la vida mucho más interesante, ya que sería **muy aburrido si todo fuera perfectamente predecible**. Aun así, una parte de nosotros quisiera predecir el futuro y que las cosas sean mucho más predecibles. Para poder lidiar con la incertidumbre que nos rodea, **solemos aplicar lo que llamamos nuestro \"*sentido común*\"**. Por ejemplo, si al levantarnos por la mañana vemos que el día se encuentra nublado, este hecho no nos da la **certeza** de que comenzará a llover más tarde; sin embargo, nuestro *sentido común* puede inducirnos a cambiar nuestros planes y a actuar como si *creyéramos* que fuera a llover si las nubes son los suficientemente oscuras o si escuchamos truenos, ya que nuestra experiencia nos dice que estos signos indicarían una mayor *posibilidad* de que el hecho de que fuera a llover más tarde realmente ocurra. \n",
    "Nuestro *sentido común* es algo tan arraigado en nuestro pensamiento, que lo utilizamos automáticamente sin siquiera ponernos a pensar en ello; pero muchas veces, el *sentido común* también nos puede jugar una mala pasada y hacernos elegir una respuesta incorrecta.\n",
    "\n",
    "Tomemos por ejemplo alguna de las siguiente situaciones...\n",
    "\n",
    "#### Situación 1 - La coincidencia de cumpleaños\n",
    "Vamos a una fiesta a la que concurren un total de 50 personas. Allí un amigo nos desafía afirmando que en la fiesta debe haber por lo menos 2 personas que cumplen años el mismo día y nos apuesta 100 euros a que está en lo correcto. Es decir, que si él acierta deberíamos pagarle los 100 euros; o en caso contrario, el nos pagará los 100 euros. ¿Deberíamos aceptar la apuesta? \n",
    "\n",
    "\n",
    "#### Situación 2 - ¿Que puerta elegir?\n",
    "Estamos participando en un concurso en el cual se nos ofrece la posibilidad de elegir una entre tres puertas. Tras una de ellas se encuentra una ferrari ultimo modelo, y detrás de las otras dos hay una cabra; luego de elegir una puerta, el presentador del concurso abre una de las puertas restantes y muestra que hay una cabra (el presentador sabe que hay detrás de cada puerta). Luego de hacer esto, el presentador nos ofrece la posibilidad de cambiar nuestra elección inicial y quedarnos con la otra puerta que no habíamos elegido inicialmente. ¿Deberíamos cambiar o confiar en nuestra elección inicial?\n",
    "\n",
    "¿Qué les diría su *sentido común* que deberían hacer en cada una de estas situaciones?\n",
    "\n",
    "Para poder responder éstas y otras preguntas de una manera más rigurosa, primero deberíamos de alguna forma modelar matemáticamente nuestro *sentido común*, es aquí, como lo expresa la frase del comienzo del artículo, como surge la [teoría de probabilidad](https://es.wikipedia.org/wiki/Teor%C3%ADa_de_la_probabilidad).\n",
    "\n",
    "\n"
   ]
  },
  {
   "attachments": {},
   "cell_type": "markdown",
   "metadata": {},
   "source": [
    "[Explicación cumpleaños](https://www.estadisticaparatodos.es/taller/cumpleanos/cumpleanos.html)\n",
    "\n",
    "[Explicación puertas](https://www.estadisticaparatodos.es/taller/montyhall/montyhall.html)"
   ]
  },
  {
   "attachments": {},
   "cell_type": "markdown",
   "metadata": {},
   "source": [
    "## CUMPLEAÑOS"
   ]
  },
  {
   "cell_type": "code",
   "execution_count": 18,
   "metadata": {
    "tags": []
   },
   "outputs": [
    {
     "name": "stdout",
     "output_type": "stream",
     "text": [
      "La probabilidad de que compartan la misma fecha es:\n",
      "\n",
      " 97.03735795779885 %\n"
     ]
    }
   ],
   "source": [
    "prob = 1.0\n",
    "asistentes = 50\n",
    "\n",
    "for i in range(asistentes):\n",
    "    prob = prob * (365-i)/365\n",
    "\n",
    "probabilidad_coincidencia = 1-prob\n",
    "\n",
    "print(\"La probabilidad de que compartan la misma fecha es:\\n\\n\", probabilidad_coincidencia*100, \"%\")"
   ]
  },
  {
   "attachments": {},
   "cell_type": "markdown",
   "metadata": {},
   "source": [
    "## MONTYHALL"
   ]
  },
  {
   "cell_type": "code",
   "execution_count": 19,
   "metadata": {},
   "outputs": [
    {
     "name": "stdout",
     "output_type": "stream",
     "text": [
      "El concursante gana en 690 ocasiones\n",
      "El concursante pierde en 310 ocasiones\n",
      "El concursante gana un  69.0 % de las veces.\n"
     ]
    }
   ],
   "source": [
    "import numpy as np\n",
    "\n",
    "def elegir_puerta():\n",
    "    \"\"\"\n",
    "    Función para elegir una puerta. Devuelve 1, 2, o 3 en forma aleatoria.\n",
    "    \"\"\"\n",
    "    numero = np.random.randint(1,4)\n",
    "    return numero\n",
    "\n",
    "def selecciona_puerta():\n",
    "    \"\"\"\n",
    "    Selecciona la puerta del concursante en forma aleatoria.\n",
    "    \"\"\"\n",
    "    puerta_elegida = elegir_puerta()\n",
    "    return puerta_elegida\n",
    "\n",
    "    \n",
    "def descarta_puerta(puerta_ganadora,puerta_elegida):\n",
    "    \"\"\"\n",
    "    Con este método el presentador descarta una de la puertas.\n",
    "    \"\"\"\n",
    "    # elegir puerta en forma aleatoria .\n",
    "    d = elegir_puerta()\n",
    "    # Si es al puerta ganadora o la del concursante, volver a elegir.\n",
    "    while d == puerta_ganadora or d == puerta_elegida:\n",
    "        d = elegir_puerta()\n",
    "    # Asignar el valor a puerta_descartada.\n",
    "    puerta_descartada = d\n",
    "    return puerta_descartada\n",
    "\n",
    "def cambiar_puerta(puerta_elegida,puerta_descartada):\n",
    "    \"\"\"\n",
    "    Cambia la puerta del concursante una vez que se elimino una puerta.\n",
    "    \"\"\"\n",
    "    # 1+2+3=6. Solo existe una puerta para elegir.\n",
    "    puerta_elegida = 6 - puerta_elegida - puerta_descartada\n",
    "    return puerta_elegida\n",
    "\n",
    "def gana_concursante(puerta_elegida,puerta_ganadora):\n",
    "    \"\"\"\n",
    "    Determina si el concursante gana. \n",
    "    Devuelve True si gana, False si pierde.\n",
    "    \"\"\"\n",
    "    #print (puerta_elegida)\n",
    "    #print (puerta_ganadora)\n",
    "    return puerta_elegida == puerta_ganadora\n",
    "            \n",
    "\n",
    "def jugar(cambiar=False):\n",
    "    puerta_elegida = 0\n",
    "    puerta_descartada = 0\n",
    "    \n",
    "    \"\"\"\n",
    "    Una vez que la clase se inicio, jugar el concurso.\n",
    " \n",
    "    'cambiar' determina si el concursante cambia su elección.\n",
    "    \"\"\"\n",
    "    #definimos la puerta donde está el premio\n",
    "    puerta_ganadora = elegir_puerta()\n",
    "    \n",
    "    # El concursante elige una puerta.\n",
    "    puerta_elegida = selecciona_puerta()\n",
    "    \n",
    "    # El presentador elimina una puerta. \n",
    "    puerta_descartada = descarta_puerta(puerta_ganadora,puerta_elegida)\n",
    "    # El concursante cambia su elección si cambiar es True.\n",
    "    if cambiar:\n",
    "        puerta_elegida = cambiar_puerta(puerta_elegida,puerta_descartada)\n",
    "    # Determinar si el concursante ha ganado.\n",
    "    return gana_concursante(puerta_elegida,puerta_ganadora)\n",
    "\n",
    "\n",
    "# creamos una lista para almacenar los resultados. Si el concursante gana se almacena un True\n",
    "numero_de_repeticiones = 1000\n",
    "lista =[]\n",
    "jugar(cambiar=cambiar_puerta)\n",
    "\n",
    "# Para cambiar puerta\n",
    "cambiar_puerta_2 = True\n",
    "\n",
    "for i in range(numero_de_repeticiones):\n",
    "    lista.append(jugar(cambiar=cambiar_puerta_2))\n",
    "    \n",
    "veces_que_gana = lista.count(True)\n",
    "veces_que_pierde = lista.count(False)\n",
    "\n",
    "print(\"El concursante gana en\", veces_que_gana,\"ocasiones\")\n",
    "print(\"El concursante pierde en\", veces_que_pierde,\"ocasiones\")\n",
    "\n",
    "porcentaje_ganadas = round(veces_que_gana/(veces_que_gana+veces_que_pierde), 3)\n",
    "\n",
    "print(\"El concursante gana un \", porcentaje_ganadas*100, \"% de las veces.\")\n"
   ]
  },
  {
   "attachments": {},
   "cell_type": "markdown",
   "metadata": {},
   "source": [
    "## JUEGO DEL CALAMAR"
   ]
  },
  {
   "cell_type": "code",
   "execution_count": 20,
   "metadata": {},
   "outputs": [
    {
     "name": "stdout",
     "output_type": "stream",
     "text": [
      "Probabilidad de :  (1, 2)\n",
      "que es lo mismo que :  50.0 %\n"
     ]
    }
   ],
   "source": [
    "# En clase\n",
    "n_decisiones = 1\n",
    "prob_calamar = (1/2)**n_decisiones\n",
    "print('Probabilidad de : ', prob_calamar.as_integer_ratio())\n",
    "print('que es lo mismo que : ', round(prob_calamar*100, 4), '%')"
   ]
  },
  {
   "cell_type": "markdown",
   "metadata": {},
   "source": [
    "### NORMALIDAD\n",
    "\n",
    "Uno de los supuestos más habituales de los procedimientos de prueba estadística es que los datos utilizados deben estar [distribuidos normalmente](https://es.wikipedia.org/wiki/Distribuci%C3%B3n_normal).\n",
    "\n",
    "Esta condición de normalidad es condición indispensable para poder emplear pruebas de contraste de hipótesis que veremos a continuación. Y, ¿por qué nos preocupan los contrastes de hipótesis? Bien, en gran medida nuestra labor será la de establecer una asunción sobre la muestra que observamos y [establecer si esta hipótesis o suposición](https://datatab.es/tutorial/hypothesis) es valida para la generalidad de nuestros datos. Tened en cuenta que en el mundo real, solo observaremos un conjunto acotado de datos, una muestra, y con esta querremos generalizar nuestras conclusiones al público general. Es algo muy habitual en investigación médica por ejemplo, tendremos una serie de muestras, trabajaremos con una hipótesis y si disponemos de suficiente base, formularemos las conclusiones de nuestro estudio. Realizaremos algo muy similar cuando trabajemos con fenómenos del ámbito empresarial."
   ]
  },
  {
   "cell_type": "code",
   "execution_count": 21,
   "metadata": {},
   "outputs": [],
   "source": [
    "import numpy as np\n",
    "\n",
    "x = np.array([148, 154, 158, 160, 161, 162, 166, 170, 182, 195, 236, 146, 130, 200, 162])"
   ]
  },
  {
   "cell_type": "code",
   "execution_count": 22,
   "metadata": {},
   "outputs": [
    {
     "data": {
      "image/png": "[encoded data removed]",
      "text/plain": [
       "<Figure size 640x480 with 1 Axes>"
      ]
     },
     "metadata": {},
     "output_type": "display_data"
    }
   ],
   "source": [
    "plt.hist(x, 70, histtype=\"stepfilled\", alpha=.7);"
   ]
  },
  {
   "cell_type": "code",
   "execution_count": 23,
   "metadata": {},
   "outputs": [
    {
     "data": {
      "text/plain": [
       "1.160286799788443"
      ]
     },
     "execution_count": 23,
     "metadata": {},
     "output_type": "execute_result"
    }
   ],
   "source": [
    "from scipy import stats\n",
    "\n",
    "stats.skew(x)"
   ]
  },
  {
   "cell_type": "markdown",
   "metadata": {},
   "source": [
    "Esto nos indica una ligera asimetría en nuestros datos."
   ]
  },
  {
   "cell_type": "code",
   "execution_count": 24,
   "metadata": {},
   "outputs": [
    {
     "data": {
      "text/plain": [
       "1.2225598970246336"
      ]
     },
     "execution_count": 24,
     "metadata": {},
     "output_type": "execute_result"
    }
   ],
   "source": [
    "stats.kurtosis(x)"
   ]
  },
  {
   "cell_type": "markdown",
   "metadata": {},
   "source": [
    "Parece que se trata de una distribución Leptocúrtica..."
   ]
  },
  {
   "cell_type": "code",
   "execution_count": 25,
   "metadata": {},
   "outputs": [
    {
     "name": "stderr",
     "output_type": "stream",
     "text": [
      "C:\\Users\\Usuario\\AppData\\Local\\Packages\\PythonSoftwareFoundation.Python.3.11_qbz5n2kfra8p0\\LocalCache\\local-packages\\Python311\\site-packages\\scipy\\stats\\_axis_nan_policy.py:531: UserWarning: kurtosistest only valid for n>=20 ... continuing anyway, n=15\n",
      "  res = hypotest_fun_out(*samples, **kwds)\n"
     ]
    },
    {
     "data": {
      "text/plain": [
       "7.725449024668304"
      ]
     },
     "execution_count": 25,
     "metadata": {},
     "output_type": "execute_result"
    }
   ],
   "source": [
    "res = stats.normaltest(x)\n",
    "res.statistic"
   ]
  },
  {
   "cell_type": "markdown",
   "metadata": {},
   "source": [
    "Aunque este warning ya nos dice que son pocos datos para realizar conclusiones sólidas. En este caso obtenemos un _p-valor_ que nos indica la probabilidad de que estos datos se obtuvieran de una distribución normal. Si el P valor es bajo nos indica que no podemos aseverar nuestra asunción de que deriven de una distribución normal y por tanto es seguro rechazar esta hipótesis."
   ]
  },
  {
   "cell_type": "code",
   "execution_count": 26,
   "metadata": {},
   "outputs": [
    {
     "data": {
      "text/plain": [
       "0.021010677621057693"
      ]
     },
     "execution_count": 26,
     "metadata": {},
     "output_type": "execute_result"
    }
   ],
   "source": [
    "res.pvalue"
   ]
  },
  {
   "cell_type": "code",
   "execution_count": 27,
   "metadata": {},
   "outputs": [
    {
     "data": {
      "image/png": "[encoded data removed]",
      "text/plain": [
       "<Figure size 640x480 with 1 Axes>"
      ]
     },
     "metadata": {},
     "output_type": "display_data"
    }
   ],
   "source": [
    "x = np.random.normal(size=1000)\n",
    "plt.hist(x, 70, histtype=\"stepfilled\", alpha=.7);"
   ]
  },
  {
   "cell_type": "code",
   "execution_count": 28,
   "metadata": {},
   "outputs": [
    {
     "name": "stdout",
     "output_type": "stream",
     "text": [
      "Asimetría:  0.09163832099715787\n",
      "Curtosis:  -0.130846280228611\n",
      "Estadística del test:  2.0512447945573435\n",
      "p-valor:  0.35857322094286576\n"
     ]
    }
   ],
   "source": [
    "print(\"Asimetría: \", stats.skew(x))\n",
    "print(\"Curtosis: \", stats.kurtosis(x))\n",
    "res = stats.normaltest(x)\n",
    "print(\"Estadística del test: \", res.statistic)\n",
    "print(\"p-valor: \", res.pvalue)\n"
   ]
  },
  {
   "cell_type": "code",
   "execution_count": 29,
   "metadata": {},
   "outputs": [
    {
     "data": {
      "image/png": "[encoded data removed]",
      "text/plain": [
       "<Figure size 700x400 with 1 Axes>"
      ]
     },
     "metadata": {},
     "output_type": "display_data"
    }
   ],
   "source": [
    "mu, sigma = stats.norm.fit(x)\n",
    "\n",
    "# Valores teóricos de la normal en el rango observado\n",
    "x_hat = np.linspace(min(x), max(x), num=100)\n",
    "y_hat = stats.norm.pdf(x_hat, mu, sigma)\n",
    "\n",
    "# Gráfico\n",
    "fig, ax = plt.subplots(figsize=(7,4))\n",
    "ax.plot(x_hat, y_hat, linewidth=2, label='normal')\n",
    "ax.hist(x=x, density=True, bins=30, color=\"#3182bd\", alpha=0.5)\n",
    "ax.plot(x, np.full_like(x, -0.01), '|k', markeredgewidth=1)\n",
    "ax.set_title('Distribución peso mujeres mayores de 15 años')\n",
    "ax.set_xlabel('peso')\n",
    "ax.set_ylabel('Densidad de probabilidad')\n",
    "ax.legend();"
   ]
  },
  {
   "cell_type": "code",
   "execution_count": 30,
   "metadata": {},
   "outputs": [
    {
     "data": {
      "text/plain": [
       "<Axes: >"
      ]
     },
     "execution_count": 30,
     "metadata": {},
     "output_type": "execute_result"
    },
    {
     "data": {
      "image/png": "[encoded data removed]",
      "text/plain": [
       "<Figure size 640x480 with 1 Axes>"
      ]
     },
     "metadata": {},
     "output_type": "display_data"
    }
   ],
   "source": [
    "import seaborn as sns\n",
    "\n",
    "sns.boxplot(x)\n"
   ]
  },
  {
   "cell_type": "markdown",
   "metadata": {},
   "source": [
    "Los test Shapiro-Wilk test y D'Agostino's K-squared test son dos de los test de hipótesis más empleados para analizar la normalidad. En ambos, se considera como hipótesis nula que los datos proceden de una distribución normal.\n",
    "\n",
    "El _p-value_ de estos test indica la probabilidad de obtener unos datos como los observados si realmente procediesen de una población con una distribución normal con la misma media y desviación que estos. Por lo tanto, si el p-value es menor que un determinado valor (típicamente 0.05), entonces se considera que hay evidencias suficientes para rechazar la normalidad.\n",
    "\n",
    "La función de _normaltest_ emplea el test D'Agostino y Person basado en la asimetría y kurtosis para determinar la normalidad como método por defecto. [Referencia](https://docs.scipy.org/doc/scipy/reference/generated/scipy.stats.normaltest.html)"
   ]
  },
  {
   "cell_type": "code",
   "execution_count": 31,
   "metadata": {},
   "outputs": [
    {
     "data": {
      "text/plain": [
       "ShapiroResult(statistic=0.9980333694486652, pvalue=0.29688827614146907)"
      ]
     },
     "execution_count": 31,
     "metadata": {},
     "output_type": "execute_result"
    }
   ],
   "source": [
    "shapiro_test = stats.shapiro(x)\n",
    "shapiro_test"
   ]
  },
  {
   "cell_type": "markdown",
   "metadata": {},
   "source": [
    "### CONTRASTE HIPÓTESIS"
   ]
  },
  {
   "attachments": {},
   "cell_type": "markdown",
   "metadata": {},
   "source": [
    "Este mismo mecanismo es el que emplearemos para el caso general de contrastar distintas hipótesis.\n",
    "\n",
    "El **p-valor**, o valor de probabilidad, es una medida estadística que se utiliza para determinar si los resultados de un experimento o estudio son estadísticamente significativos o si podrían haber ocurrido debido al azar. En términos sencillos, el p-valor responde a la pregunta: \"¿Cuál es la probabilidad de obtener resultados similares o más extremos que los observados si la hipótesis nula es verdadera?\"\n",
    "\n",
    "- **Hipótesis nula (H0):** Es una afirmación inicial que asume que no hay efecto o diferencia real en los datos. Por ejemplo, podríamos tener la hipótesis nula de que un nuevo medicamento no es más efectivo que un placebo.\n",
    "\n",
    "- **Hipótesis alternativa (H1 o Ha):** Es la afirmación que queremos probar, indicando que hay una diferencia o efecto real en los datos. Siguiendo el ejemplo anterior, la hipótesis alternativa sería que el nuevo medicamento es más efectivo que un placebo.\n",
    "\n",
    "- Recolectamos datos y realizamos un análisis estadístico para evaluar si los resultados respaldan la hipótesis nula o la hipótesis alternativa.\n",
    "\n",
    "- El p-valor es una medida que calculamos durante este análisis. Cuanto más bajo sea el p-valor, más evidencia tenemos en contra de la hipótesis nula. Un p-valor pequeño sugiere que los resultados observados son poco probables de ocurrir por azar.\n",
    "\n",
    "Entonces, ¿cómo se interpreta el p-valor?\n",
    "\n",
    "- Si el p-valor es pequeño (generalmente menor que un umbral predefinido, como 0.05), tendemos a rechazar la hipótesis nula. Esto significa que los resultados son estadísticamente significativos y sugieren que la hipótesis alternativa es más plausible.\n",
    "\n",
    "- Si el p-valor es grande (generalmente mayor que 0.05), no tenemos suficiente evidencia para rechazar la hipótesis nula. Esto implica que los resultados podrían haber ocurrido debido al azar y no respaldan la hipótesis alternativa.\n",
    "\n",
    "En resumen, el p-valor es una herramienta que nos ayuda a tomar decisiones basadas en evidencia estadística. Un p-valor bajo sugiere que los resultados son significativos y respaldan la hipótesis alternativa, mientras que un p-valor alto sugiere que no hay suficiente evidencia para rechazar la hipótesis nula.\n",
    "\n",
    "Respaldar esta hipótesis nos permite realizar acciones posteriores a la hora de realizar inferencias sobre el grupo objeto de estudio. De no poder respaldar estas hipótesis quizás estemos asumiendo riesgos muy elevados en nuestras inferencias.\n"
   ]
  },
  {
   "attachments": {},
   "cell_type": "markdown",
   "metadata": {},
   "source": [
    "# Ejemplo"
   ]
  },
  {
   "attachments": {},
   "cell_type": "markdown",
   "metadata": {},
   "source": [
    "Imaginemos que eres el gerente de una cadena de tiendas minoristas que opera en diferentes ubicaciones geográficas. Tienes tres ubicaciones principales: Ubicación A, Ubicación B y Ubicación C. Estás interesado en evaluar si hay diferencias significativas en las ventas promedio entre estas ubicaciones.\n",
    "\n",
    "Para llevar a cabo el análisis, recopilas datos de ventas diarias durante un período de tiempo en cada una de las ubicaciones. A continuación, planteas las hipótesis correspondientes:\n",
    "\n",
    "* Hipótesis nula (H0): No hay diferencias significativas en las ventas promedio entre las ubicaciones A, B y C.\n",
    "* Hipótesis alternativa (H1): Existen diferencias significativas en las ventas promedio entre al menos dos de las ubicaciones A, B y C.\n",
    "\n",
    "Luego, puedes aplicar el análisis de pruebas de hipótesis ANOVA (análisis de la varianza) para evaluar si hay evidencia suficiente para rechazar la hipótesis nula.\n",
    "\n",
    "Si el resultado de la prueba ANOVA muestra un P-valor menor que un nivel de significancia predefinido (por ejemplo, 0.05), podrías concluir que hay diferencias significativas en las ventas promedio entre al menos dos de las ubicaciones. Esto te brinda información valiosa para tomar decisiones estratégicas en tu negocio, como asignar recursos adicionales a las ubicaciones con mejores ventas o identificar áreas de mejora en las ubicaciones con ventas más bajas.\n",
    "\n",
    "Por otro lado, si el resultado de la prueba ANOVA muestra un P-valor mayor o igual al nivel de significancia, no tendrías suficiente evidencia para rechazar la hipótesis nula y podrías concluir que no hay diferencias significativas en las ventas promedio entre las ubicaciones. Esto te permite tomar decisiones informadas, como implementar estrategias de marketing y promoción más consistentes en todas las ubicaciones o analizar otros factores que puedan influir en las ventas.\n"
   ]
  },
  {
   "cell_type": "code",
   "execution_count": 32,
   "metadata": {},
   "outputs": [
    {
     "name": "stdout",
     "output_type": "stream",
     "text": [
      "Estadística de prueba F: 0.15384615384615385\n",
      "P-valor: 0.8590683010253906\n",
      "No hay suficiente evidencia para rechazar la hipótesis nula.\n"
     ]
    }
   ],
   "source": [
    "import numpy as np\n",
    "import scipy.stats as stats\n",
    "\n",
    "# Datos de ejemplo\n",
    "grupo1 = np.array([10, 12, 14, 15, 16])\n",
    "grupo2 = np.array([11, 12, 13, 14, 15])\n",
    "grupo3 = np.array([9, 11, 13, 14, 16])\n",
    "\n",
    "# Realizar prueba ANOVA\n",
    "fvalue, pvalue = stats.f_oneway(grupo1, grupo2, grupo3)\n",
    "\n",
    "# Imprimir resultados\n",
    "print(\"Estadística de prueba F:\", fvalue)\n",
    "print(\"P-valor:\", pvalue)\n",
    "\n",
    "# Interpretación de resultados\n",
    "alpha = 0.05  # Nivel de significancia\n",
    "if pvalue < alpha:\n",
    "    print(\"Rechazamos la hipótesis nula.\")\n",
    "else:\n",
    "    print(\"No hay suficiente evidencia para rechazar la hipótesis nula.\")"
   ]
  },
  {
   "cell_type": "code",
   "execution_count": 33,
   "metadata": {},
   "outputs": [
    {
     "name": "stdout",
     "output_type": "stream",
     "text": [
      "P-valor: 0.033328023573922345\n",
      "Rechazamos la hipótesis nula.\n"
     ]
    }
   ],
   "source": [
    "import numpy as np\n",
    "import scipy.stats as stats\n",
    "\n",
    "# Datos de ejemplo\n",
    "grupo1 = np.array([10, 12, 14, 15, 16])\n",
    "grupo2 = np.array([15, 15, 18, 17, 19])\n",
    "grupo3 = np.array([9, 11, 13, 14, 16])\n",
    "\n",
    "# Realizar prueba ANOVA\n",
    "fvalue, pvalue = stats.f_oneway(grupo1, grupo2, grupo3)\n",
    "\n",
    "# Imprimir resultados\n",
    "# print(\"Estadística de prueba F:\", fvalue)\n",
    "print(\"P-valor:\", pvalue)\n",
    "\n",
    "# Interpretación de resultados\n",
    "alpha = 0.05  # Nivel de significancia\n",
    "if pvalue < alpha:\n",
    "    print(\"Rechazamos la hipótesis nula.\")\n",
    "else:\n",
    "    print(\"No hay suficiente evidencia para rechazar la hipótesis nula.\")"
   ]
  },
  {
   "attachments": {},
   "cell_type": "markdown",
   "metadata": {},
   "source": [
    "En resumen, al aplicar pruebas de hipótesis ANOVA a un escenario de negocio, puedes obtener información valiosa para comprender las diferencias entre grupos y tomar decisiones basadas en evidencia en tu organización. Esto te permite optimizar recursos, identificar áreas de mejora y respaldar tus decisiones estratégicas con un enfoque basado en datos.\n",
    "\n",
    "En caso de no poder asumir normalidad en las distribuciones asociadas a nuestras muestras, deberemos recurrir a otro tipo de tests, los llamados no paramétricos. [Referencia](https://machinelearningmastery.com/nonparametric-statistical-significance-tests-in-python/)"
   ]
  }
 ],
 "metadata": {
  "file_extension": ".py",
  "kernelspec": {
   "display_name": "Python 3",
   "language": "python",
   "name": "python3"
  },
  "language_info": {
   "codemirror_mode": {
    "name": "ipython",
    "version": 3
   },
   "file_extension": ".py",
   "mimetype": "text/x-python",
   "name": "python",
   "nbconvert_exporter": "python",
   "pygments_lexer": "ipython3",
   "version": "3.11.9"
  },
  "mimetype": "text/x-python",
  "name": "python",
  "npconvert_exporter": "python",
  "pygments_lexer": "ipython3",
  "version": 3
 },
 "nbformat": 4,
 "nbformat_minor": 4
}
